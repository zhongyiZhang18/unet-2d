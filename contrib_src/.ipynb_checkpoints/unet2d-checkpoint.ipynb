{
 "cells": [
  {
   "cell_type": "code",
   "execution_count": null,
   "metadata": {},
   "outputs": [],
   "source": [
    "from PIL import Image\n",
    "from keras.models import *\n",
    "from keras.preprocessing import image\n",
    "import numpy as np\n",
    "import skimage.io as io\n",
    "import os\n",
    "def saveResult(save_path,npyfile,flag_multi_class = False,num_class = 2):\n",
    "    for i,item in enumerate(npyfile):\n",
    "        img = labelVisualize(num_class,COLOR_DICT,item) if flag_multi_class else item[:,:,0]\n",
    "        io.imsave(os.path.join(save_path,\"predict.png\"),img)\n",
    "        \n",
    "img = Image.open('sample_data/0.png')\n",
    "img = img.resize((256,256),Image.ANTIALIAS)\n",
    "\n",
    "testpath = 'sample_data'\n",
    "model = load_model('model/model.h5')\n",
    "# model.load_weights(big512ske_weight_path)m\\\n",
    "x = image.img_to_array(img)\n",
    "x = np.expand_dims(x, axis=0)\n",
    "# x = preprocess_input(x)\n",
    "# \n",
    "# preds = model.predict(x)\n",
    "# saveResult(testpath,preds)\n",
    "\n"
   ]
  },
  {
   "cell_type": "code",
   "execution_count": null,
   "metadata": {},
   "outputs": [],
   "source": [
    "\n",
    "from PIL import Image\n",
    "import matplotlib.pyplot as plt\n",
    "input_img=Image.open('sample_data/0.png')\n",
    "plt.title('unet_input')\n",
    "plt.axis('off') # \n",
    "plt.imshow(input_img)\n",
    "plt.show()\n",
    "\n",
    "\n"
   ]
  },
  {
   "cell_type": "code",
   "execution_count": null,
   "metadata": {},
   "outputs": [],
   "source": [
    "output_img=Image.open('sample_data/predict.png')\n",
    "plt.title('unet_output_')\n",
    "plt.axis('off') # \n",
    "plt.imshow(output_img)\n",
    "plt.show()"
   ]
  }
 ],
 "metadata": {
  "kernelspec": {
   "display_name": "Python 3",
   "language": "python",
   "name": "python3"
  },
  "language_info": {
   "codemirror_mode": {
    "name": "ipython",
    "version": 3
   },
   "file_extension": ".py",
   "mimetype": "text/x-python",
   "name": "python",
   "nbconvert_exporter": "python",
   "pygments_lexer": "ipython3",
   "version": "3.6.9"
  }
 },
 "nbformat": 4,
 "nbformat_minor": 4
}
